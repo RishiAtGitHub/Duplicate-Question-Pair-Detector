{
 "cells": [
  {
   "cell_type": "code",
   "execution_count": 1,
   "id": "47df7f00-a32b-474f-8e78-c8ee07ee507a",
   "metadata": {},
   "outputs": [],
   "source": [
    "import numpy as np\n",
    "import pandas as pd\n",
    "import seaborn as sns\n",
    "import matplotlib.pyplot as plt"
   ]
  },
  {
   "cell_type": "code",
   "execution_count": 3,
   "id": "d7c1e3b5-8915-48c2-8c9a-277b91c1de66",
   "metadata": {},
   "outputs": [],
   "source": [
    "df = pd.read_csv('questions.csv')"
   ]
  },
  {
   "cell_type": "code",
   "execution_count": 5,
   "id": "1fe8d102-9572-4a0c-a5b0-48f9cedc4f95",
   "metadata": {},
   "outputs": [
    {
     "data": {
      "text/plain": [
       "(404351, 6)"
      ]
     },
     "execution_count": 5,
     "metadata": {},
     "output_type": "execute_result"
    }
   ],
   "source": [
    "df.shape"
   ]
  },
  {
   "cell_type": "code",
   "execution_count": 7,
   "id": "75dc7d33-0345-4581-b04b-061ae0a6b338",
   "metadata": {},
   "outputs": [
    {
     "data": {
      "text/html": [
       "<div>\n",
       "<style scoped>\n",
       "    .dataframe tbody tr th:only-of-type {\n",
       "        vertical-align: middle;\n",
       "    }\n",
       "\n",
       "    .dataframe tbody tr th {\n",
       "        vertical-align: top;\n",
       "    }\n",
       "\n",
       "    .dataframe thead th {\n",
       "        text-align: right;\n",
       "    }\n",
       "</style>\n",
       "<table border=\"1\" class=\"dataframe\">\n",
       "  <thead>\n",
       "    <tr style=\"text-align: right;\">\n",
       "      <th></th>\n",
       "      <th>id</th>\n",
       "      <th>qid1</th>\n",
       "      <th>qid2</th>\n",
       "      <th>question1</th>\n",
       "      <th>question2</th>\n",
       "      <th>is_duplicate</th>\n",
       "    </tr>\n",
       "  </thead>\n",
       "  <tbody>\n",
       "    <tr>\n",
       "      <th>0</th>\n",
       "      <td>0</td>\n",
       "      <td>1</td>\n",
       "      <td>2</td>\n",
       "      <td>What is the step by step guide to invest in sh...</td>\n",
       "      <td>What is the step by step guide to invest in sh...</td>\n",
       "      <td>0</td>\n",
       "    </tr>\n",
       "    <tr>\n",
       "      <th>1</th>\n",
       "      <td>1</td>\n",
       "      <td>3</td>\n",
       "      <td>4</td>\n",
       "      <td>What is the story of Kohinoor (Koh-i-Noor) Dia...</td>\n",
       "      <td>What would happen if the Indian government sto...</td>\n",
       "      <td>0</td>\n",
       "    </tr>\n",
       "    <tr>\n",
       "      <th>2</th>\n",
       "      <td>2</td>\n",
       "      <td>5</td>\n",
       "      <td>6</td>\n",
       "      <td>How can I increase the speed of my internet co...</td>\n",
       "      <td>How can Internet speed be increased by hacking...</td>\n",
       "      <td>0</td>\n",
       "    </tr>\n",
       "    <tr>\n",
       "      <th>3</th>\n",
       "      <td>3</td>\n",
       "      <td>7</td>\n",
       "      <td>8</td>\n",
       "      <td>Why am I mentally very lonely? How can I solve...</td>\n",
       "      <td>Find the remainder when [math]23^{24}[/math] i...</td>\n",
       "      <td>0</td>\n",
       "    </tr>\n",
       "    <tr>\n",
       "      <th>4</th>\n",
       "      <td>4</td>\n",
       "      <td>9</td>\n",
       "      <td>10</td>\n",
       "      <td>Which one dissolve in water quikly sugar, salt...</td>\n",
       "      <td>Which fish would survive in salt water?</td>\n",
       "      <td>0</td>\n",
       "    </tr>\n",
       "  </tbody>\n",
       "</table>\n",
       "</div>"
      ],
      "text/plain": [
       "   id  qid1  qid2                                          question1  \\\n",
       "0   0     1     2  What is the step by step guide to invest in sh...   \n",
       "1   1     3     4  What is the story of Kohinoor (Koh-i-Noor) Dia...   \n",
       "2   2     5     6  How can I increase the speed of my internet co...   \n",
       "3   3     7     8  Why am I mentally very lonely? How can I solve...   \n",
       "4   4     9    10  Which one dissolve in water quikly sugar, salt...   \n",
       "\n",
       "                                           question2  is_duplicate  \n",
       "0  What is the step by step guide to invest in sh...             0  \n",
       "1  What would happen if the Indian government sto...             0  \n",
       "2  How can Internet speed be increased by hacking...             0  \n",
       "3  Find the remainder when [math]23^{24}[/math] i...             0  \n",
       "4            Which fish would survive in salt water?             0  "
      ]
     },
     "execution_count": 7,
     "metadata": {},
     "output_type": "execute_result"
    }
   ],
   "source": [
    "df.head()"
   ]
  },
  {
   "cell_type": "code",
   "execution_count": 15,
   "id": "626508a0-792f-4435-b7ae-43b3b5f2689f",
   "metadata": {},
   "outputs": [],
   "source": [
    "new_df = df.sample(30000)"
   ]
  },
  {
   "cell_type": "code",
   "execution_count": 17,
   "id": "aa2fdc86-6ae2-4176-810f-4d11c6d401e5",
   "metadata": {},
   "outputs": [
    {
     "data": {
      "text/plain": [
       "id              0\n",
       "qid1            0\n",
       "qid2            0\n",
       "question1       0\n",
       "question2       0\n",
       "is_duplicate    0\n",
       "dtype: int64"
      ]
     },
     "execution_count": 17,
     "metadata": {},
     "output_type": "execute_result"
    }
   ],
   "source": [
    "new_df.isnull().sum()"
   ]
  },
  {
   "cell_type": "code",
   "execution_count": 19,
   "id": "6d717662-4b9f-4804-a470-e2f4e7985ebe",
   "metadata": {},
   "outputs": [
    {
     "data": {
      "text/plain": [
       "0"
      ]
     },
     "execution_count": 19,
     "metadata": {},
     "output_type": "execute_result"
    }
   ],
   "source": [
    "new_df.duplicated().sum()"
   ]
  },
  {
   "cell_type": "code",
   "execution_count": 21,
   "id": "6c9d0bcd-26bf-4f46-9483-a7f585a4be10",
   "metadata": {},
   "outputs": [
    {
     "data": {
      "text/html": [
       "<div>\n",
       "<style scoped>\n",
       "    .dataframe tbody tr th:only-of-type {\n",
       "        vertical-align: middle;\n",
       "    }\n",
       "\n",
       "    .dataframe tbody tr th {\n",
       "        vertical-align: top;\n",
       "    }\n",
       "\n",
       "    .dataframe thead th {\n",
       "        text-align: right;\n",
       "    }\n",
       "</style>\n",
       "<table border=\"1\" class=\"dataframe\">\n",
       "  <thead>\n",
       "    <tr style=\"text-align: right;\">\n",
       "      <th></th>\n",
       "      <th>question1</th>\n",
       "      <th>question2</th>\n",
       "    </tr>\n",
       "  </thead>\n",
       "  <tbody>\n",
       "    <tr>\n",
       "      <th>1229</th>\n",
       "      <td>My parents give me \"advice\" and they get reall...</td>\n",
       "      <td>What is the best advice for giving others an a...</td>\n",
       "    </tr>\n",
       "    <tr>\n",
       "      <th>368273</th>\n",
       "      <td>How can I watch any clip4sale video without pa...</td>\n",
       "      <td>Can I use an old game that is now free in a vi...</td>\n",
       "    </tr>\n",
       "    <tr>\n",
       "      <th>228170</th>\n",
       "      <td>How can I learn seo?</td>\n",
       "      <td>How do I learn SEO basic?</td>\n",
       "    </tr>\n",
       "    <tr>\n",
       "      <th>166591</th>\n",
       "      <td>What are the advantages and disadvantages of D...</td>\n",
       "      <td>What are the disadvantages of using a DBMS?</td>\n",
       "    </tr>\n",
       "    <tr>\n",
       "      <th>396394</th>\n",
       "      <td>What is causing universe to expand?</td>\n",
       "      <td>What is causing our universe to expand and acc...</td>\n",
       "    </tr>\n",
       "  </tbody>\n",
       "</table>\n",
       "</div>"
      ],
      "text/plain": [
       "                                                question1  \\\n",
       "1229    My parents give me \"advice\" and they get reall...   \n",
       "368273  How can I watch any clip4sale video without pa...   \n",
       "228170                               How can I learn seo?   \n",
       "166591  What are the advantages and disadvantages of D...   \n",
       "396394                What is causing universe to expand?   \n",
       "\n",
       "                                                question2  \n",
       "1229    What is the best advice for giving others an a...  \n",
       "368273  Can I use an old game that is now free in a vi...  \n",
       "228170                          How do I learn SEO basic?  \n",
       "166591        What are the disadvantages of using a DBMS?  \n",
       "396394  What is causing our universe to expand and acc...  "
      ]
     },
     "execution_count": 21,
     "metadata": {},
     "output_type": "execute_result"
    }
   ],
   "source": [
    "ques_df = new_df[['question1', 'question2']]\n",
    "ques_df.head()"
   ]
  },
  {
   "cell_type": "code",
   "execution_count": 23,
   "id": "18574f09-0f63-4513-a406-47a72ec8458a",
   "metadata": {},
   "outputs": [],
   "source": [
    "from sklearn.feature_extraction.text import CountVectorizer"
   ]
  },
  {
   "cell_type": "code",
   "execution_count": 25,
   "id": "406468c7-8186-49d5-9c29-e93c9a759017",
   "metadata": {},
   "outputs": [],
   "source": [
    "# merge texts \n",
    "questions = list(ques_df['question1']) + list(ques_df['question2'])\n",
    "\n",
    "cv = CountVectorizer(max_features=3000)\n",
    "q1_arr, q2_arr = np.vsplit(cv.fit_transform(questions).toarray(), 2)"
   ]
  },
  {
   "cell_type": "code",
   "execution_count": 29,
   "id": "066daaad-9922-484e-a774-b5ab823adf0c",
   "metadata": {},
   "outputs": [
    {
     "data": {
      "text/plain": [
       "(30000, 6000)"
      ]
     },
     "execution_count": 29,
     "metadata": {},
     "output_type": "execute_result"
    }
   ],
   "source": [
    "temp_df1 = pd.DataFrame(q1_arr, index= ques_df.index)\n",
    "temp_df2 = pd.DataFrame(q2_arr, index=ques_df.index)\n",
    "temp_df = pd.concat([temp_df1, temp_df2], axis=1)\n",
    "temp_df.shape"
   ]
  },
  {
   "cell_type": "code",
   "execution_count": 31,
   "id": "61ed8160-c905-4723-a5fa-09f990dd3e82",
   "metadata": {},
   "outputs": [],
   "source": [
    "temp_df['is_duplicate'] = new_df['is_duplicate']"
   ]
  },
  {
   "cell_type": "code",
   "execution_count": 33,
   "id": "ddc6c448-e642-4ca6-9202-38b3e642f6e2",
   "metadata": {},
   "outputs": [
    {
     "data": {
      "text/html": [
       "<div>\n",
       "<style scoped>\n",
       "    .dataframe tbody tr th:only-of-type {\n",
       "        vertical-align: middle;\n",
       "    }\n",
       "\n",
       "    .dataframe tbody tr th {\n",
       "        vertical-align: top;\n",
       "    }\n",
       "\n",
       "    .dataframe thead th {\n",
       "        text-align: right;\n",
       "    }\n",
       "</style>\n",
       "<table border=\"1\" class=\"dataframe\">\n",
       "  <thead>\n",
       "    <tr style=\"text-align: right;\">\n",
       "      <th></th>\n",
       "      <th>0</th>\n",
       "      <th>1</th>\n",
       "      <th>2</th>\n",
       "      <th>3</th>\n",
       "      <th>4</th>\n",
       "      <th>5</th>\n",
       "      <th>6</th>\n",
       "      <th>7</th>\n",
       "      <th>8</th>\n",
       "      <th>9</th>\n",
       "      <th>...</th>\n",
       "      <th>2991</th>\n",
       "      <th>2992</th>\n",
       "      <th>2993</th>\n",
       "      <th>2994</th>\n",
       "      <th>2995</th>\n",
       "      <th>2996</th>\n",
       "      <th>2997</th>\n",
       "      <th>2998</th>\n",
       "      <th>2999</th>\n",
       "      <th>is_duplicate</th>\n",
       "    </tr>\n",
       "  </thead>\n",
       "  <tbody>\n",
       "    <tr>\n",
       "      <th>1229</th>\n",
       "      <td>0</td>\n",
       "      <td>0</td>\n",
       "      <td>0</td>\n",
       "      <td>0</td>\n",
       "      <td>0</td>\n",
       "      <td>0</td>\n",
       "      <td>0</td>\n",
       "      <td>0</td>\n",
       "      <td>0</td>\n",
       "      <td>0</td>\n",
       "      <td>...</td>\n",
       "      <td>0</td>\n",
       "      <td>0</td>\n",
       "      <td>0</td>\n",
       "      <td>0</td>\n",
       "      <td>0</td>\n",
       "      <td>0</td>\n",
       "      <td>0</td>\n",
       "      <td>0</td>\n",
       "      <td>0</td>\n",
       "      <td>0</td>\n",
       "    </tr>\n",
       "    <tr>\n",
       "      <th>368273</th>\n",
       "      <td>0</td>\n",
       "      <td>0</td>\n",
       "      <td>0</td>\n",
       "      <td>0</td>\n",
       "      <td>0</td>\n",
       "      <td>0</td>\n",
       "      <td>0</td>\n",
       "      <td>0</td>\n",
       "      <td>0</td>\n",
       "      <td>0</td>\n",
       "      <td>...</td>\n",
       "      <td>0</td>\n",
       "      <td>0</td>\n",
       "      <td>0</td>\n",
       "      <td>0</td>\n",
       "      <td>0</td>\n",
       "      <td>0</td>\n",
       "      <td>0</td>\n",
       "      <td>0</td>\n",
       "      <td>0</td>\n",
       "      <td>0</td>\n",
       "    </tr>\n",
       "    <tr>\n",
       "      <th>228170</th>\n",
       "      <td>0</td>\n",
       "      <td>0</td>\n",
       "      <td>0</td>\n",
       "      <td>0</td>\n",
       "      <td>0</td>\n",
       "      <td>0</td>\n",
       "      <td>0</td>\n",
       "      <td>0</td>\n",
       "      <td>0</td>\n",
       "      <td>0</td>\n",
       "      <td>...</td>\n",
       "      <td>0</td>\n",
       "      <td>0</td>\n",
       "      <td>0</td>\n",
       "      <td>0</td>\n",
       "      <td>0</td>\n",
       "      <td>0</td>\n",
       "      <td>0</td>\n",
       "      <td>0</td>\n",
       "      <td>0</td>\n",
       "      <td>0</td>\n",
       "    </tr>\n",
       "    <tr>\n",
       "      <th>166591</th>\n",
       "      <td>0</td>\n",
       "      <td>0</td>\n",
       "      <td>0</td>\n",
       "      <td>0</td>\n",
       "      <td>0</td>\n",
       "      <td>0</td>\n",
       "      <td>0</td>\n",
       "      <td>0</td>\n",
       "      <td>0</td>\n",
       "      <td>0</td>\n",
       "      <td>...</td>\n",
       "      <td>0</td>\n",
       "      <td>0</td>\n",
       "      <td>0</td>\n",
       "      <td>0</td>\n",
       "      <td>0</td>\n",
       "      <td>0</td>\n",
       "      <td>0</td>\n",
       "      <td>0</td>\n",
       "      <td>0</td>\n",
       "      <td>1</td>\n",
       "    </tr>\n",
       "    <tr>\n",
       "      <th>396394</th>\n",
       "      <td>0</td>\n",
       "      <td>0</td>\n",
       "      <td>0</td>\n",
       "      <td>0</td>\n",
       "      <td>0</td>\n",
       "      <td>0</td>\n",
       "      <td>0</td>\n",
       "      <td>0</td>\n",
       "      <td>0</td>\n",
       "      <td>0</td>\n",
       "      <td>...</td>\n",
       "      <td>0</td>\n",
       "      <td>0</td>\n",
       "      <td>0</td>\n",
       "      <td>0</td>\n",
       "      <td>0</td>\n",
       "      <td>0</td>\n",
       "      <td>0</td>\n",
       "      <td>0</td>\n",
       "      <td>0</td>\n",
       "      <td>1</td>\n",
       "    </tr>\n",
       "  </tbody>\n",
       "</table>\n",
       "<p>5 rows × 6001 columns</p>\n",
       "</div>"
      ],
      "text/plain": [
       "        0  1  2  3  4  5  6  7  8  9  ...  2991  2992  2993  2994  2995  2996  \\\n",
       "1229    0  0  0  0  0  0  0  0  0  0  ...     0     0     0     0     0     0   \n",
       "368273  0  0  0  0  0  0  0  0  0  0  ...     0     0     0     0     0     0   \n",
       "228170  0  0  0  0  0  0  0  0  0  0  ...     0     0     0     0     0     0   \n",
       "166591  0  0  0  0  0  0  0  0  0  0  ...     0     0     0     0     0     0   \n",
       "396394  0  0  0  0  0  0  0  0  0  0  ...     0     0     0     0     0     0   \n",
       "\n",
       "        2997  2998  2999  is_duplicate  \n",
       "1229       0     0     0             0  \n",
       "368273     0     0     0             0  \n",
       "228170     0     0     0             0  \n",
       "166591     0     0     0             1  \n",
       "396394     0     0     0             1  \n",
       "\n",
       "[5 rows x 6001 columns]"
      ]
     },
     "execution_count": 33,
     "metadata": {},
     "output_type": "execute_result"
    }
   ],
   "source": [
    "temp_df.head()"
   ]
  },
  {
   "cell_type": "code",
   "execution_count": 37,
   "id": "88b1e790-a85f-442b-ba15-557a3f8654d9",
   "metadata": {},
   "outputs": [],
   "source": [
    "from sklearn.model_selection import train_test_split\n",
    "X_train, X_test, y_train , y_test = train_test_split(temp_df.iloc[:, 0:-1].values, temp_df.iloc[:, -1].values, test_size=0.2, random_state=21)"
   ]
  },
  {
   "cell_type": "code",
   "execution_count": 39,
   "id": "0b07b905-436b-4620-9a9c-53bc89563a49",
   "metadata": {},
   "outputs": [],
   "source": [
    "from sklearn.ensemble import RandomForestClassifier\n",
    "from sklearn.metrics import accuracy_score"
   ]
  },
  {
   "cell_type": "code",
   "execution_count": 43,
   "id": "30c61fcb-f817-4acd-9c75-eb5a8f61485b",
   "metadata": {},
   "outputs": [
    {
     "data": {
      "text/plain": [
       "0.7465"
      ]
     },
     "execution_count": 43,
     "metadata": {},
     "output_type": "execute_result"
    }
   ],
   "source": [
    "rf = RandomForestClassifier()\n",
    "rf.fit(X_train, y_train)\n",
    "y_pred = rf.predict(X_test)\n",
    "accuracy_score(y_test, y_pred)"
   ]
  },
  {
   "cell_type": "code",
   "execution_count": 51,
   "id": "1a199a9e-41ec-4a8f-a769-121a89a49b70",
   "metadata": {},
   "outputs": [
    {
     "name": "stdout",
     "output_type": "stream",
     "text": [
      "Collecting xgboost\n",
      "  Downloading xgboost-2.1.0-py3-none-win_amd64.whl.metadata (2.1 kB)\n",
      "Requirement already satisfied: numpy in c:\\users\\rishi\\anaconda3\\lib\\site-packages (from xgboost) (1.26.4)\n",
      "Requirement already satisfied: scipy in c:\\users\\rishi\\anaconda3\\lib\\site-packages (from xgboost) (1.11.4)\n",
      "Downloading xgboost-2.1.0-py3-none-win_amd64.whl (124.9 MB)\n",
      "   ---------------------------------------- 0.0/124.9 MB ? eta -:--:--\n",
      "   ---------------------------------------- 0.0/124.9 MB ? eta -:--:--\n",
      "   ---------------------------------------- 0.0/124.9 MB ? eta -:--:--\n",
      "   ---------------------------------------- 0.0/124.9 MB 217.9 kB/s eta 0:09:34\n",
      "   ---------------------------------------- 0.0/124.9 MB 217.9 kB/s eta 0:09:34\n",
      "   ---------------------------------------- 0.1/124.9 MB 297.7 kB/s eta 0:07:00\n",
      "   ---------------------------------------- 0.1/124.9 MB 350.1 kB/s eta 0:05:57\n",
      "   ---------------------------------------- 0.1/124.9 MB 473.7 kB/s eta 0:04:24\n",
      "   ---------------------------------------- 0.2/124.9 MB 655.6 kB/s eta 0:03:11\n",
      "   ---------------------------------------- 0.3/124.9 MB 901.1 kB/s eta 0:02:19\n",
      "   ---------------------------------------- 0.5/124.9 MB 1.1 MB/s eta 0:01:52\n",
      "   ---------------------------------------- 0.8/124.9 MB 1.6 MB/s eta 0:01:17\n",
      "   ---------------------------------------- 1.1/124.9 MB 2.1 MB/s eta 0:00:59\n",
      "    --------------------------------------- 1.7/124.9 MB 3.0 MB/s eta 0:00:41\n",
      "    --------------------------------------- 2.3/124.9 MB 3.8 MB/s eta 0:00:33\n",
      "   - -------------------------------------- 3.3/124.9 MB 5.0 MB/s eta 0:00:25\n",
      "   - -------------------------------------- 4.1/124.9 MB 5.8 MB/s eta 0:00:21\n",
      "   - -------------------------------------- 5.3/124.9 MB 7.1 MB/s eta 0:00:17\n",
      "   -- ------------------------------------- 6.6/124.9 MB 8.2 MB/s eta 0:00:15\n",
      "   -- ------------------------------------- 6.6/124.9 MB 8.3 MB/s eta 0:00:15\n",
      "   -- ------------------------------------- 6.6/124.9 MB 8.3 MB/s eta 0:00:15\n",
      "   -- ------------------------------------- 6.6/124.9 MB 8.3 MB/s eta 0:00:15\n",
      "   -- ------------------------------------- 6.7/124.9 MB 7.0 MB/s eta 0:00:17\n",
      "   -- ------------------------------------- 6.7/124.9 MB 7.0 MB/s eta 0:00:17\n",
      "   -- ------------------------------------- 7.0/124.9 MB 6.5 MB/s eta 0:00:19\n",
      "   -- ------------------------------------- 9.3/124.9 MB 8.3 MB/s eta 0:00:14\n",
      "   --- ------------------------------------ 11.6/124.9 MB 16.4 MB/s eta 0:00:07\n",
      "   --- ------------------------------------ 11.7/124.9 MB 15.2 MB/s eta 0:00:08\n",
      "   ---- ----------------------------------- 15.1/124.9 MB 19.2 MB/s eta 0:00:06\n",
      "   ----- ---------------------------------- 16.7/124.9 MB 20.5 MB/s eta 0:00:06\n",
      "   ----- ---------------------------------- 16.9/124.9 MB 36.4 MB/s eta 0:00:03\n",
      "   ----- ---------------------------------- 18.6/124.9 MB 34.4 MB/s eta 0:00:04\n",
      "   ------ --------------------------------- 20.4/124.9 MB 32.8 MB/s eta 0:00:04\n",
      "   ------ --------------------------------- 21.7/124.9 MB 29.7 MB/s eta 0:00:04\n",
      "   ------- -------------------------------- 23.1/124.9 MB 34.4 MB/s eta 0:00:03\n",
      "   ------- -------------------------------- 24.1/124.9 MB 31.2 MB/s eta 0:00:04\n",
      "   -------- ------------------------------- 25.3/124.9 MB 27.3 MB/s eta 0:00:04\n",
      "   -------- ------------------------------- 26.3/124.9 MB 25.2 MB/s eta 0:00:04\n",
      "   -------- ------------------------------- 26.5/124.9 MB 24.2 MB/s eta 0:00:05\n",
      "   -------- ------------------------------- 26.5/124.9 MB 24.2 MB/s eta 0:00:05\n",
      "   -------- ------------------------------- 26.5/124.9 MB 24.2 MB/s eta 0:00:05\n",
      "   -------- ------------------------------- 26.7/124.9 MB 18.7 MB/s eta 0:00:06\n",
      "   -------- ------------------------------- 26.7/124.9 MB 18.7 MB/s eta 0:00:06\n",
      "   -------- ------------------------------- 26.7/124.9 MB 18.7 MB/s eta 0:00:06\n",
      "   --------- ------------------------------ 28.3/124.9 MB 16.8 MB/s eta 0:00:06\n",
      "   --------- ------------------------------ 28.3/124.9 MB 16.8 MB/s eta 0:00:06\n",
      "   --------- ------------------------------ 28.3/124.9 MB 16.8 MB/s eta 0:00:06\n",
      "   --------- ------------------------------ 28.3/124.9 MB 16.8 MB/s eta 0:00:06\n",
      "   ---------- ----------------------------- 31.6/124.9 MB 14.2 MB/s eta 0:00:07\n",
      "   ---------- ----------------------------- 32.8/124.9 MB 14.6 MB/s eta 0:00:07\n",
      "   ---------- ----------------------------- 33.3/124.9 MB 14.2 MB/s eta 0:00:07\n",
      "   ---------- ----------------------------- 33.3/124.9 MB 14.2 MB/s eta 0:00:07\n",
      "   ---------- ----------------------------- 33.3/124.9 MB 14.2 MB/s eta 0:00:07\n",
      "   ----------- ---------------------------- 36.6/124.9 MB 13.6 MB/s eta 0:00:07\n",
      "   ------------ --------------------------- 39.9/124.9 MB 36.3 MB/s eta 0:00:03\n",
      "   ------------ --------------------------- 39.9/124.9 MB 36.3 MB/s eta 0:00:03\n",
      "   ------------ --------------------------- 40.4/124.9 MB 26.2 MB/s eta 0:00:04\n",
      "   -------------- ------------------------- 44.1/124.9 MB 46.7 MB/s eta 0:00:02\n",
      "   -------------- ------------------------- 44.3/124.9 MB 50.4 MB/s eta 0:00:02\n",
      "   -------------- ------------------------- 44.3/124.9 MB 50.4 MB/s eta 0:00:02\n",
      "   -------------- ------------------------- 44.3/124.9 MB 50.4 MB/s eta 0:00:02\n",
      "   --------------- ------------------------ 48.4/124.9 MB 29.7 MB/s eta 0:00:03\n",
      "   ---------------- ----------------------- 52.2/124.9 MB 38.5 MB/s eta 0:00:02\n",
      "   ---------------- ----------------------- 52.5/124.9 MB 38.6 MB/s eta 0:00:02\n",
      "   ---------------- ----------------------- 52.5/124.9 MB 38.6 MB/s eta 0:00:02\n",
      "   ---------------- ----------------------- 52.6/124.9 MB 26.2 MB/s eta 0:00:03\n",
      "   ----------------- ---------------------- 53.8/124.9 MB 23.4 MB/s eta 0:00:04\n",
      "   ----------------- ---------------------- 55.0/124.9 MB 32.8 MB/s eta 0:00:03\n",
      "   ----------------- ---------------------- 55.3/124.9 MB 31.2 MB/s eta 0:00:03\n",
      "   ----------------- ---------------------- 55.3/124.9 MB 31.2 MB/s eta 0:00:03\n",
      "   ----------------- ---------------------- 55.3/124.9 MB 31.2 MB/s eta 0:00:03\n",
      "   ----------------- ---------------------- 55.3/124.9 MB 31.2 MB/s eta 0:00:03\n",
      "   ----------------- ---------------------- 55.3/124.9 MB 31.2 MB/s eta 0:00:03\n",
      "   ----------------- ---------------------- 55.3/124.9 MB 31.2 MB/s eta 0:00:03\n",
      "   ------------------- -------------------- 60.0/124.9 MB 17.2 MB/s eta 0:00:04\n",
      "   ------------------- -------------------- 60.0/124.9 MB 16.0 MB/s eta 0:00:05\n",
      "   -------------------- ------------------- 63.8/124.9 MB 22.6 MB/s eta 0:00:03\n",
      "   -------------------- ------------------- 63.8/124.9 MB 22.6 MB/s eta 0:00:03\n",
      "   -------------------- ------------------- 63.8/124.9 MB 22.6 MB/s eta 0:00:03\n",
      "   -------------------- ------------------- 64.6/124.9 MB 17.2 MB/s eta 0:00:04\n",
      "   -------------------- ------------------- 64.6/124.9 MB 17.2 MB/s eta 0:00:04\n",
      "   -------------------- ------------------- 64.6/124.9 MB 17.2 MB/s eta 0:00:04\n",
      "   --------------------- ------------------ 65.7/124.9 MB 25.2 MB/s eta 0:00:03\n",
      "   ---------------------- ----------------- 68.8/124.9 MB 23.4 MB/s eta 0:00:03\n",
      "   ---------------------- ----------------- 69.9/124.9 MB 22.6 MB/s eta 0:00:03\n",
      "   ---------------------- ----------------- 70.3/124.9 MB 22.6 MB/s eta 0:00:03\n",
      "   ---------------------- ----------------- 70.8/124.9 MB 21.9 MB/s eta 0:00:03\n",
      "   ---------------------- ----------------- 70.8/124.9 MB 21.9 MB/s eta 0:00:03\n",
      "   ---------------------- ----------------- 70.8/124.9 MB 21.9 MB/s eta 0:00:03\n",
      "   ---------------------- ----------------- 70.8/124.9 MB 16.4 MB/s eta 0:00:04\n",
      "   ---------------------- ----------------- 70.8/124.9 MB 16.4 MB/s eta 0:00:04\n",
      "   ---------------------- ----------------- 70.8/124.9 MB 16.4 MB/s eta 0:00:04\n",
      "   ----------------------- ---------------- 72.1/124.9 MB 13.1 MB/s eta 0:00:05\n",
      "   ------------------------ --------------- 76.2/124.9 MB 21.1 MB/s eta 0:00:03\n",
      "   ------------------------ --------------- 76.2/124.9 MB 21.1 MB/s eta 0:00:03\n",
      "   ------------------------ --------------- 76.2/124.9 MB 21.1 MB/s eta 0:00:03\n",
      "   ------------------------- -------------- 78.6/124.9 MB 16.4 MB/s eta 0:00:03\n",
      "   ------------------------- -------------- 78.9/124.9 MB 16.0 MB/s eta 0:00:03\n",
      "   ------------------------- -------------- 79.2/124.9 MB 15.2 MB/s eta 0:00:04\n",
      "   ------------------------- -------------- 79.2/124.9 MB 15.2 MB/s eta 0:00:04\n",
      "   ------------------------- -------------- 79.4/124.9 MB 13.6 MB/s eta 0:00:04\n",
      "   ------------------------- -------------- 79.4/124.9 MB 13.6 MB/s eta 0:00:04\n",
      "   ------------------------- -------------- 79.4/124.9 MB 13.6 MB/s eta 0:00:04\n",
      "   ------------------------- -------------- 79.6/124.9 MB 11.3 MB/s eta 0:00:05\n",
      "   -------------------------- ------------- 82.5/124.9 MB 18.7 MB/s eta 0:00:03\n",
      "   -------------------------- ------------- 82.5/124.9 MB 18.7 MB/s eta 0:00:03\n",
      "   --------------------------- ------------ 85.7/124.9 MB 16.4 MB/s eta 0:00:03\n",
      "   --------------------------- ------------ 87.1/124.9 MB 18.7 MB/s eta 0:00:03\n",
      "   ---------------------------- ----------- 90.0/124.9 MB 43.7 MB/s eta 0:00:01\n",
      "   ----------------------------- ---------- 93.6/124.9 MB 65.6 MB/s eta 0:00:01\n",
      "   ------------------------------ --------- 94.2/124.9 MB 59.8 MB/s eta 0:00:01\n",
      "   ------------------------------ --------- 94.2/124.9 MB 59.8 MB/s eta 0:00:01\n",
      "   ------------------------------ --------- 94.2/124.9 MB 59.8 MB/s eta 0:00:01\n",
      "   ------------------------------ --------- 95.0/124.9 MB 32.8 MB/s eta 0:00:01\n",
      "   ------------------------------ --------- 96.1/124.9 MB 29.7 MB/s eta 0:00:01\n",
      "   ------------------------------- -------- 97.3/124.9 MB 27.3 MB/s eta 0:00:02\n",
      "   ------------------------------- -------- 98.8/124.9 MB 28.4 MB/s eta 0:00:01\n",
      "   ------------------------------- -------- 98.8/124.9 MB 28.4 MB/s eta 0:00:01\n",
      "   ------------------------------- -------- 98.9/124.9 MB 22.6 MB/s eta 0:00:02\n",
      "   ------------------------------- -------- 98.9/124.9 MB 22.6 MB/s eta 0:00:02\n",
      "   ------------------------------- -------- 98.9/124.9 MB 22.6 MB/s eta 0:00:02\n",
      "   ------------------------------- ------- 101.1/124.9 MB 17.7 MB/s eta 0:00:02\n",
      "   ------------------------------- ------- 102.0/124.9 MB 17.3 MB/s eta 0:00:02\n",
      "   ------------------------------- ------- 102.0/124.9 MB 17.3 MB/s eta 0:00:02\n",
      "   -------------------------------- ------ 103.1/124.9 MB 14.6 MB/s eta 0:00:02\n",
      "   -------------------------------- ------ 103.2/124.9 MB 14.2 MB/s eta 0:00:02\n",
      "   -------------------------------- ------ 104.0/124.9 MB 13.4 MB/s eta 0:00:02\n",
      "   -------------------------------- ------ 104.9/124.9 MB 15.6 MB/s eta 0:00:02\n",
      "   -------------------------------- ------ 105.4/124.9 MB 15.6 MB/s eta 0:00:02\n",
      "   -------------------------------- ------ 105.4/124.9 MB 15.6 MB/s eta 0:00:02\n",
      "   -------------------------------- ------ 105.4/124.9 MB 15.6 MB/s eta 0:00:02\n",
      "   -------------------------------- ------ 105.4/124.9 MB 15.6 MB/s eta 0:00:02\n",
      "   -------------------------------- ------ 105.4/124.9 MB 15.6 MB/s eta 0:00:02\n",
      "   -------------------------------- ------ 105.4/124.9 MB 15.6 MB/s eta 0:00:02\n",
      "   ---------------------------------- ---- 110.1/124.9 MB 16.8 MB/s eta 0:00:01\n",
      "   ----------------------------------- --- 113.1/124.9 MB 19.8 MB/s eta 0:00:01\n",
      "   ----------------------------------- --- 113.1/124.9 MB 19.8 MB/s eta 0:00:01\n",
      "   ----------------------------------- --- 113.1/124.9 MB 19.8 MB/s eta 0:00:01\n",
      "   ----------------------------------- --- 113.4/124.9 MB 16.4 MB/s eta 0:00:01\n",
      "   ------------------------------------ -- 116.1/124.9 MB 40.9 MB/s eta 0:00:01\n",
      "   ------------------------------------ -- 116.3/124.9 MB 36.4 MB/s eta 0:00:01\n",
      "   ------------------------------------ -- 116.3/124.9 MB 36.4 MB/s eta 0:00:01\n",
      "   ------------------------------------ -- 116.3/124.9 MB 36.4 MB/s eta 0:00:01\n",
      "   ------------------------------------ -- 116.3/124.9 MB 36.4 MB/s eta 0:00:01\n",
      "   ------------------------------------ -- 116.3/124.9 MB 36.4 MB/s eta 0:00:01\n",
      "   ------------------------------------- - 118.8/124.9 MB 19.8 MB/s eta 0:00:01\n",
      "   ------------------------------------- - 118.8/124.9 MB 19.8 MB/s eta 0:00:01\n",
      "   ------------------------------------- - 118.8/124.9 MB 19.8 MB/s eta 0:00:01\n",
      "   --------------------------------------  123.2/124.9 MB 16.4 MB/s eta 0:00:01\n",
      "   --------------------------------------  124.9/124.9 MB 21.8 MB/s eta 0:00:01\n",
      "   --------------------------------------  124.9/124.9 MB 21.8 MB/s eta 0:00:01\n",
      "   --------------------------------------  124.9/124.9 MB 21.8 MB/s eta 0:00:01\n",
      "   --------------------------------------  124.9/124.9 MB 21.8 MB/s eta 0:00:01\n",
      "   --------------------------------------  124.9/124.9 MB 21.8 MB/s eta 0:00:01\n",
      "   --------------------------------------  124.9/124.9 MB 21.8 MB/s eta 0:00:01\n",
      "   --------------------------------------- 124.9/124.9 MB 13.6 MB/s eta 0:00:00\n",
      "Installing collected packages: xgboost\n",
      "Successfully installed xgboost-2.1.0\n"
     ]
    }
   ],
   "source": [
    "!pip install xgboost"
   ]
  },
  {
   "cell_type": "code",
   "execution_count": 53,
   "id": "545ead97-546d-430f-acad-c87f81a0171c",
   "metadata": {},
   "outputs": [],
   "source": [
    "from xgboost import XGBClassifier"
   ]
  },
  {
   "cell_type": "code",
   "execution_count": 55,
   "id": "1ca8b480-81d3-4688-a65d-eec6d25d34d9",
   "metadata": {},
   "outputs": [
    {
     "data": {
      "text/plain": [
       "0.737"
      ]
     },
     "execution_count": 55,
     "metadata": {},
     "output_type": "execute_result"
    }
   ],
   "source": [
    "xgb = XGBClassifier()\n",
    "xgb.fit(X_train, y_train)\n",
    "y_pred = xgb.predict(X_test)\n",
    "accuracy_score(y_test, y_pred)"
   ]
  },
  {
   "cell_type": "code",
   "execution_count": null,
   "id": "1d20c62f-66f8-43fd-b36b-69b567246590",
   "metadata": {},
   "outputs": [],
   "source": []
  }
 ],
 "metadata": {
  "kernelspec": {
   "display_name": "Python 3 (ipykernel)",
   "language": "python",
   "name": "python3"
  },
  "language_info": {
   "codemirror_mode": {
    "name": "ipython",
    "version": 3
   },
   "file_extension": ".py",
   "mimetype": "text/x-python",
   "name": "python",
   "nbconvert_exporter": "python",
   "pygments_lexer": "ipython3",
   "version": "3.11.7"
  }
 },
 "nbformat": 4,
 "nbformat_minor": 5
}
